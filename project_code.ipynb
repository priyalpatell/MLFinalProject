{
  "cells": [
    {
      "cell_type": "code",
      "execution_count": 3,
      "metadata": {
        "colab": {
          "base_uri": "https://localhost:8080/"
        },
        "id": "VBj9MOT6oS4F",
        "outputId": "3335d519-489c-46d1-a231-b2a935379412"
      },
      "outputs": [
        {
          "name": "stdout",
          "output_type": "stream",
          "text": [
            "Requirement already satisfied: geopandas in /usr/local/lib/python3.10/dist-packages (0.13.2)\n",
            "Requirement already satisfied: fiona>=1.8.19 in /usr/local/lib/python3.10/dist-packages (from geopandas) (1.9.6)\n",
            "Requirement already satisfied: packaging in /usr/local/lib/python3.10/dist-packages (from geopandas) (24.0)\n",
            "Requirement already satisfied: pandas>=1.1.0 in /usr/local/lib/python3.10/dist-packages (from geopandas) (1.5.3)\n",
            "Requirement already satisfied: pyproj>=3.0.1 in /usr/local/lib/python3.10/dist-packages (from geopandas) (3.6.1)\n",
            "Requirement already satisfied: shapely>=1.7.1 in /usr/local/lib/python3.10/dist-packages (from geopandas) (2.0.3)\n",
            "Requirement already satisfied: attrs>=19.2.0 in /usr/local/lib/python3.10/dist-packages (from fiona>=1.8.19->geopandas) (23.2.0)\n",
            "Requirement already satisfied: certifi in /usr/local/lib/python3.10/dist-packages (from fiona>=1.8.19->geopandas) (2024.2.2)\n",
            "Requirement already satisfied: click~=8.0 in /usr/local/lib/python3.10/dist-packages (from fiona>=1.8.19->geopandas) (8.1.7)\n",
            "Requirement already satisfied: click-plugins>=1.0 in /usr/local/lib/python3.10/dist-packages (from fiona>=1.8.19->geopandas) (1.1.1)\n",
            "Requirement already satisfied: cligj>=0.5 in /usr/local/lib/python3.10/dist-packages (from fiona>=1.8.19->geopandas) (0.7.2)\n",
            "Requirement already satisfied: six in /usr/local/lib/python3.10/dist-packages (from fiona>=1.8.19->geopandas) (1.16.0)\n",
            "Requirement already satisfied: python-dateutil>=2.8.1 in /usr/local/lib/python3.10/dist-packages (from pandas>=1.1.0->geopandas) (2.8.2)\n",
            "Requirement already satisfied: pytz>=2020.1 in /usr/local/lib/python3.10/dist-packages (from pandas>=1.1.0->geopandas) (2023.4)\n",
            "Requirement already satisfied: numpy>=1.21.0 in /usr/local/lib/python3.10/dist-packages (from pandas>=1.1.0->geopandas) (1.25.2)\n",
            "Collecting streamlit\n",
            "  Downloading streamlit-1.32.1-py2.py3-none-any.whl (8.1 MB)\n",
            "\u001b[2K     \u001b[90m━━━━━━━━━━━━━━━━━━━━━━━━━━━━━━━━━━━━━━━━\u001b[0m \u001b[32m8.1/8.1 MB\u001b[0m \u001b[31m16.2 MB/s\u001b[0m eta \u001b[36m0:00:00\u001b[0m\n",
            "\u001b[?25hRequirement already satisfied: altair<6,>=4.0 in /usr/local/lib/python3.10/dist-packages (from streamlit) (4.2.2)\n",
            "Requirement already satisfied: blinker<2,>=1.0.0 in /usr/lib/python3/dist-packages (from streamlit) (1.4)\n",
            "Requirement already satisfied: cachetools<6,>=4.0 in /usr/local/lib/python3.10/dist-packages (from streamlit) (5.3.3)\n",
            "Requirement already satisfied: click<9,>=7.0 in /usr/local/lib/python3.10/dist-packages (from streamlit) (8.1.7)\n",
            "Requirement already satisfied: numpy<2,>=1.19.3 in /usr/local/lib/python3.10/dist-packages (from streamlit) (1.25.2)\n",
            "Collecting packaging<24,>=16.8 (from streamlit)\n",
            "  Downloading packaging-23.2-py3-none-any.whl (53 kB)\n",
            "\u001b[2K     \u001b[90m━━━━━━━━━━━━━━━━━━━━━━━━━━━━━━━━━━━━━━━━\u001b[0m \u001b[32m53.0/53.0 kB\u001b[0m \u001b[31m5.4 MB/s\u001b[0m eta \u001b[36m0:00:00\u001b[0m\n",
            "\u001b[?25hRequirement already satisfied: pandas<3,>=1.3.0 in /usr/local/lib/python3.10/dist-packages (from streamlit) (1.5.3)\n",
            "Requirement already satisfied: pillow<11,>=7.1.0 in /usr/local/lib/python3.10/dist-packages (from streamlit) (9.4.0)\n",
            "Requirement already satisfied: protobuf<5,>=3.20 in /usr/local/lib/python3.10/dist-packages (from streamlit) (3.20.3)\n",
            "Requirement already satisfied: pyarrow>=7.0 in /usr/local/lib/python3.10/dist-packages (from streamlit) (14.0.2)\n",
            "Requirement already satisfied: requests<3,>=2.27 in /usr/local/lib/python3.10/dist-packages (from streamlit) (2.31.0)\n",
            "Requirement already satisfied: rich<14,>=10.14.0 in /usr/local/lib/python3.10/dist-packages (from streamlit) (13.7.1)\n",
            "Requirement already satisfied: tenacity<9,>=8.1.0 in /usr/local/lib/python3.10/dist-packages (from streamlit) (8.2.3)\n",
            "Requirement already satisfied: toml<2,>=0.10.1 in /usr/local/lib/python3.10/dist-packages (from streamlit) (0.10.2)\n",
            "Requirement already satisfied: typing-extensions<5,>=4.3.0 in /usr/local/lib/python3.10/dist-packages (from streamlit) (4.10.0)\n",
            "Collecting gitpython!=3.1.19,<4,>=3.0.7 (from streamlit)\n",
            "  Downloading GitPython-3.1.42-py3-none-any.whl (195 kB)\n",
            "\u001b[2K     \u001b[90m━━━━━━━━━━━━━━━━━━━━━━━━━━━━━━━━━━━━━━━━\u001b[0m \u001b[32m195.4/195.4 kB\u001b[0m \u001b[31m17.8 MB/s\u001b[0m eta \u001b[36m0:00:00\u001b[0m\n",
            "\u001b[?25hCollecting pydeck<1,>=0.8.0b4 (from streamlit)\n",
            "  Downloading pydeck-0.8.1b0-py2.py3-none-any.whl (4.8 MB)\n",
            "\u001b[2K     \u001b[90m━━━━━━━━━━━━━━━━━━━━━━━━━━━━━━━━━━━━━━━━\u001b[0m \u001b[32m4.8/4.8 MB\u001b[0m \u001b[31m34.0 MB/s\u001b[0m eta \u001b[36m0:00:00\u001b[0m\n",
            "\u001b[?25hRequirement already satisfied: tornado<7,>=6.0.3 in /usr/local/lib/python3.10/dist-packages (from streamlit) (6.3.3)\n",
            "Collecting watchdog>=2.1.5 (from streamlit)\n",
            "  Downloading watchdog-4.0.0-py3-none-manylinux2014_x86_64.whl (82 kB)\n",
            "\u001b[2K     \u001b[90m━━━━━━━━━━━━━━━━━━━━━━━━━━━━━━━━━━━━━━━━\u001b[0m \u001b[32m83.0/83.0 kB\u001b[0m \u001b[31m9.2 MB/s\u001b[0m eta \u001b[36m0:00:00\u001b[0m\n",
            "\u001b[?25hRequirement already satisfied: entrypoints in /usr/local/lib/python3.10/dist-packages (from altair<6,>=4.0->streamlit) (0.4)\n",
            "Requirement already satisfied: jinja2 in /usr/local/lib/python3.10/dist-packages (from altair<6,>=4.0->streamlit) (3.1.3)\n",
            "Requirement already satisfied: jsonschema>=3.0 in /usr/local/lib/python3.10/dist-packages (from altair<6,>=4.0->streamlit) (4.19.2)\n",
            "Requirement already satisfied: toolz in /usr/local/lib/python3.10/dist-packages (from altair<6,>=4.0->streamlit) (0.12.1)\n",
            "Collecting gitdb<5,>=4.0.1 (from gitpython!=3.1.19,<4,>=3.0.7->streamlit)\n",
            "  Downloading gitdb-4.0.11-py3-none-any.whl (62 kB)\n",
            "\u001b[2K     \u001b[90m━━━━━━━━━━━━━━━━━━━━━━━━━━━━━━━━━━━━━━━━\u001b[0m \u001b[32m62.7/62.7 kB\u001b[0m \u001b[31m6.2 MB/s\u001b[0m eta \u001b[36m0:00:00\u001b[0m\n",
            "\u001b[?25hRequirement already satisfied: python-dateutil>=2.8.1 in /usr/local/lib/python3.10/dist-packages (from pandas<3,>=1.3.0->streamlit) (2.8.2)\n",
            "Requirement already satisfied: pytz>=2020.1 in /usr/local/lib/python3.10/dist-packages (from pandas<3,>=1.3.0->streamlit) (2023.4)\n",
            "Requirement already satisfied: charset-normalizer<4,>=2 in /usr/local/lib/python3.10/dist-packages (from requests<3,>=2.27->streamlit) (3.3.2)\n",
            "Requirement already satisfied: idna<4,>=2.5 in /usr/local/lib/python3.10/dist-packages (from requests<3,>=2.27->streamlit) (3.6)\n",
            "Requirement already satisfied: urllib3<3,>=1.21.1 in /usr/local/lib/python3.10/dist-packages (from requests<3,>=2.27->streamlit) (2.0.7)\n",
            "Requirement already satisfied: certifi>=2017.4.17 in /usr/local/lib/python3.10/dist-packages (from requests<3,>=2.27->streamlit) (2024.2.2)\n",
            "Requirement already satisfied: markdown-it-py>=2.2.0 in /usr/local/lib/python3.10/dist-packages (from rich<14,>=10.14.0->streamlit) (3.0.0)\n",
            "Requirement already satisfied: pygments<3.0.0,>=2.13.0 in /usr/local/lib/python3.10/dist-packages (from rich<14,>=10.14.0->streamlit) (2.16.1)\n",
            "Collecting smmap<6,>=3.0.1 (from gitdb<5,>=4.0.1->gitpython!=3.1.19,<4,>=3.0.7->streamlit)\n",
            "  Downloading smmap-5.0.1-py3-none-any.whl (24 kB)\n",
            "Requirement already satisfied: MarkupSafe>=2.0 in /usr/local/lib/python3.10/dist-packages (from jinja2->altair<6,>=4.0->streamlit) (2.1.5)\n",
            "Requirement already satisfied: attrs>=22.2.0 in /usr/local/lib/python3.10/dist-packages (from jsonschema>=3.0->altair<6,>=4.0->streamlit) (23.2.0)\n",
            "Requirement already satisfied: jsonschema-specifications>=2023.03.6 in /usr/local/lib/python3.10/dist-packages (from jsonschema>=3.0->altair<6,>=4.0->streamlit) (2023.12.1)\n",
            "Requirement already satisfied: referencing>=0.28.4 in /usr/local/lib/python3.10/dist-packages (from jsonschema>=3.0->altair<6,>=4.0->streamlit) (0.33.0)\n",
            "Requirement already satisfied: rpds-py>=0.7.1 in /usr/local/lib/python3.10/dist-packages (from jsonschema>=3.0->altair<6,>=4.0->streamlit) (0.18.0)\n",
            "Requirement already satisfied: mdurl~=0.1 in /usr/local/lib/python3.10/dist-packages (from markdown-it-py>=2.2.0->rich<14,>=10.14.0->streamlit) (0.1.2)\n",
            "Requirement already satisfied: six>=1.5 in /usr/local/lib/python3.10/dist-packages (from python-dateutil>=2.8.1->pandas<3,>=1.3.0->streamlit) (1.16.0)\n",
            "Installing collected packages: watchdog, smmap, packaging, pydeck, gitdb, gitpython, streamlit\n",
            "  Attempting uninstall: packaging\n",
            "    Found existing installation: packaging 24.0\n",
            "    Uninstalling packaging-24.0:\n",
            "      Successfully uninstalled packaging-24.0\n",
            "Successfully installed gitdb-4.0.11 gitpython-3.1.42 packaging-23.2 pydeck-0.8.1b0 smmap-5.0.1 streamlit-1.32.1 watchdog-4.0.0\n"
          ]
        }
      ],
      "source": [
        "%pip install geopandas\n",
        "%pip install streamlit"
      ]
    },
    {
      "cell_type": "markdown",
      "metadata": {
        "id": "JqqnLWGgtvkF"
      },
      "source": [
        "### **All imports needed to run the program:**"
      ]
    },
    {
      "cell_type": "code",
      "execution_count": 4,
      "metadata": {
        "id": "TAGfqg89TG9M"
      },
      "outputs": [],
      "source": [
        "import pandas as pd\n",
        "import numpy as np\n",
        "import matplotlib.pyplot as plt\n",
        "import geopandas as gdp\n",
        "import seaborn as sns\n",
        "import pandas as pd\n",
        "import scipy.stats as stats\n",
        "import streamlit as st\n",
        "import base64\n",
        "import keras\n",
        "\n",
        "from datetime import date\n",
        "from dateutil.relativedelta import relativedelta\n",
        "from sklearn import metrics\n",
        "from sklearn.preprocessing import LabelEncoder, MinMaxScaler\n",
        "from sklearn.ensemble import RandomForestClassifier, RandomForestRegressor, HistGradientBoostingRegressor, GradientBoostingRegressor\n",
        "from sklearn.metrics import mean_absolute_error, mean_squared_error, r2_score, accuracy_score, classification_report\n",
        "from sklearn.model_selection import train_test_split, cross_validate, cross_val_score, GridSearchCV, RandomizedSearchCV\n",
        "from keras.models import Sequential\n",
        "from keras.layers import LSTM, Dense, Dropout, MaxPooling1D, Conv1D, Embedding, Input, GlobalAveragePooling1D\n",
        "\n",
        "\n",
        "import warnings\n",
        "warnings.filterwarnings('ignore')"
      ]
    },
    {
      "cell_type": "code",
      "execution_count": 6,
      "metadata": {
        "colab": {
          "base_uri": "https://localhost:8080/"
        },
        "id": "UaM7pngqt1-j",
        "outputId": "124768a0-a5b5-43a0-b9f2-a432db5fd44d"
      },
      "outputs": [
        {
          "name": "stdout",
          "output_type": "stream",
          "text": [
            "Drive already mounted at /content/drive; to attempt to forcibly remount, call drive.mount(\"/content/drive\", force_remount=True).\n"
          ]
        }
      ],
      "source": [
        "# log into your google account & choose the select all option for access\n",
        "from google.colab import drive\n",
        "drive.mount('/content/drive')\n",
        "data = '/content/drive/Shared drives/Group2FinalProject/scrubbed.csv'\n",
        "map_ca = '/content/drive/Shared drives/Group2FinalProject/cb_2018_us_state_500k/cb_2018_us_state_500k.shp'"
      ]
    },
    {
      "cell_type": "markdown",
      "metadata": {
        "id": "vQvOwJzCx96X"
      },
      "source": [
        "### **Question 1**"
      ]
    },
    {
      "cell_type": "markdown",
      "metadata": {
        "id": "9rZ0AN1gx96X"
      },
      "source": [
        "When will the next UFO sighting be in California?"
      ]
    },
    {
      "cell_type": "markdown",
      "metadata": {
        "id": "4Ga7SH6EvKWp"
      },
      "source": [
        "### **Upload the dataset and extract the relevant column (datetime):**\n",
        "We are only predicting the next UFO sightings in California, so we only need the rows that have 'ca' in their `state` column. Also, we don't need all other columns except for `datetime` to make this prediction."
      ]
    },
    {
      "cell_type": "code",
      "execution_count": 7,
      "metadata": {
        "id": "vyojML2W99a-"
      },
      "outputs": [],
      "source": [
        "df = pd.read_csv(data)\n",
        "\n",
        "# List of columns to drop\n",
        "columns_to_drop = ['comments', 'city', 'date posted', 'shape', 'duration (seconds)', 'duration (hours/min)', 'country', 'state', 'latitude', 'longitude ']\n",
        "\n",
        "# Filter for rows where 'state' is 'ca' and 'country' is 'us', and drop specified columns and cities\n",
        "df_filtered = df[(df['state'] == 'ca') & (df['country'] == 'us')].drop(columns=columns_to_drop, axis=1)"
      ]
    },
    {
      "cell_type": "markdown",
      "metadata": {
        "id": "RzSwnbXYvYs-"
      },
      "source": [
        "### **Separate ``datetime`` column into two columns ``Date`` and ``Time``:**\n",
        "We are not predicting the exact time of occurence, and therefore we don't need the timing information. However, because the dataset has both date and time together in one column, we want to separate the two and keep the `Date` column only.\n"
      ]
    },
    {
      "cell_type": "code",
      "execution_count": null,
      "metadata": {
        "colab": {
          "base_uri": "https://localhost:8080/",
          "height": 419
        },
        "id": "LvaKl1X-vnVy",
        "outputId": "e6d9f551-4401-4159-d363-91ed239adc98"
      },
      "outputs": [
        {
          "data": {
            "application/vnd.google.colaboratory.intrinsic+json": {
              "repr_error": "0",
              "type": "dataframe",
              "variable_name": "data"
            },
            "text/html": [
              "\n",
              "  <div id=\"df-ba9fd047-9793-41e3-af95-83caf5ed0a98\" class=\"colab-df-container\">\n",
              "    <div>\n",
              "<style scoped>\n",
              "    .dataframe tbody tr th:only-of-type {\n",
              "        vertical-align: middle;\n",
              "    }\n",
              "\n",
              "    .dataframe tbody tr th {\n",
              "        vertical-align: top;\n",
              "    }\n",
              "\n",
              "    .dataframe thead th {\n",
              "        text-align: right;\n",
              "    }\n",
              "</style>\n",
              "<table border=\"1\" class=\"dataframe\">\n",
              "  <thead>\n",
              "    <tr style=\"text-align: right;\">\n",
              "      <th></th>\n",
              "      <th>Date</th>\n",
              "    </tr>\n",
              "  </thead>\n",
              "  <tbody>\n",
              "    <tr>\n",
              "      <th>10</th>\n",
              "      <td>10/10/1968</td>\n",
              "    </tr>\n",
              "    <tr>\n",
              "      <th>30</th>\n",
              "      <td>10/10/1979</td>\n",
              "    </tr>\n",
              "    <tr>\n",
              "      <th>45</th>\n",
              "      <td>10/10/1989</td>\n",
              "    </tr>\n",
              "    <tr>\n",
              "      <th>63</th>\n",
              "      <td>10/10/1995</td>\n",
              "    </tr>\n",
              "    <tr>\n",
              "      <th>72</th>\n",
              "      <td>10/10/1998</td>\n",
              "    </tr>\n",
              "    <tr>\n",
              "      <th>...</th>\n",
              "      <td>...</td>\n",
              "    </tr>\n",
              "    <tr>\n",
              "      <th>80299</th>\n",
              "      <td>9/9/2012</td>\n",
              "    </tr>\n",
              "    <tr>\n",
              "      <th>80305</th>\n",
              "      <td>9/9/2012</td>\n",
              "    </tr>\n",
              "    <tr>\n",
              "      <th>80310</th>\n",
              "      <td>9/9/2012</td>\n",
              "    </tr>\n",
              "    <tr>\n",
              "      <th>80316</th>\n",
              "      <td>9/9/2013</td>\n",
              "    </tr>\n",
              "    <tr>\n",
              "      <th>80329</th>\n",
              "      <td>9/9/2013</td>\n",
              "    </tr>\n",
              "  </tbody>\n",
              "</table>\n",
              "<p>8912 rows × 1 columns</p>\n",
              "</div>\n",
              "    <div class=\"colab-df-buttons\">\n",
              "\n",
              "  <div class=\"colab-df-container\">\n",
              "    <button class=\"colab-df-convert\" onclick=\"convertToInteractive('df-ba9fd047-9793-41e3-af95-83caf5ed0a98')\"\n",
              "            title=\"Convert this dataframe to an interactive table.\"\n",
              "            style=\"display:none;\">\n",
              "\n",
              "  <svg xmlns=\"http://www.w3.org/2000/svg\" height=\"24px\" viewBox=\"0 -960 960 960\">\n",
              "    <path d=\"M120-120v-720h720v720H120Zm60-500h600v-160H180v160Zm220 220h160v-160H400v160Zm0 220h160v-160H400v160ZM180-400h160v-160H180v160Zm440 0h160v-160H620v160ZM180-180h160v-160H180v160Zm440 0h160v-160H620v160Z\"/>\n",
              "  </svg>\n",
              "    </button>\n",
              "\n",
              "  <style>\n",
              "    .colab-df-container {\n",
              "      display:flex;\n",
              "      gap: 12px;\n",
              "    }\n",
              "\n",
              "    .colab-df-convert {\n",
              "      background-color: #E8F0FE;\n",
              "      border: none;\n",
              "      border-radius: 50%;\n",
              "      cursor: pointer;\n",
              "      display: none;\n",
              "      fill: #1967D2;\n",
              "      height: 32px;\n",
              "      padding: 0 0 0 0;\n",
              "      width: 32px;\n",
              "    }\n",
              "\n",
              "    .colab-df-convert:hover {\n",
              "      background-color: #E2EBFA;\n",
              "      box-shadow: 0px 1px 2px rgba(60, 64, 67, 0.3), 0px 1px 3px 1px rgba(60, 64, 67, 0.15);\n",
              "      fill: #174EA6;\n",
              "    }\n",
              "\n",
              "    .colab-df-buttons div {\n",
              "      margin-bottom: 4px;\n",
              "    }\n",
              "\n",
              "    [theme=dark] .colab-df-convert {\n",
              "      background-color: #3B4455;\n",
              "      fill: #D2E3FC;\n",
              "    }\n",
              "\n",
              "    [theme=dark] .colab-df-convert:hover {\n",
              "      background-color: #434B5C;\n",
              "      box-shadow: 0px 1px 3px 1px rgba(0, 0, 0, 0.15);\n",
              "      filter: drop-shadow(0px 1px 2px rgba(0, 0, 0, 0.3));\n",
              "      fill: #FFFFFF;\n",
              "    }\n",
              "  </style>\n",
              "\n",
              "    <script>\n",
              "      const buttonEl =\n",
              "        document.querySelector('#df-ba9fd047-9793-41e3-af95-83caf5ed0a98 button.colab-df-convert');\n",
              "      buttonEl.style.display =\n",
              "        google.colab.kernel.accessAllowed ? 'block' : 'none';\n",
              "\n",
              "      async function convertToInteractive(key) {\n",
              "        const element = document.querySelector('#df-ba9fd047-9793-41e3-af95-83caf5ed0a98');\n",
              "        const dataTable =\n",
              "          await google.colab.kernel.invokeFunction('convertToInteractive',\n",
              "                                                    [key], {});\n",
              "        if (!dataTable) return;\n",
              "\n",
              "        const docLinkHtml = 'Like what you see? Visit the ' +\n",
              "          '<a target=\"_blank\" href=https://colab.research.google.com/notebooks/data_table.ipynb>data table notebook</a>'\n",
              "          + ' to learn more about interactive tables.';\n",
              "        element.innerHTML = '';\n",
              "        dataTable['output_type'] = 'display_data';\n",
              "        await google.colab.output.renderOutput(dataTable, element);\n",
              "        const docLink = document.createElement('div');\n",
              "        docLink.innerHTML = docLinkHtml;\n",
              "        element.appendChild(docLink);\n",
              "      }\n",
              "    </script>\n",
              "  </div>\n",
              "\n",
              "\n",
              "<div id=\"df-e143c6d4-4b18-4b20-985f-74c2c21259bb\">\n",
              "  <button class=\"colab-df-quickchart\" onclick=\"quickchart('df-e143c6d4-4b18-4b20-985f-74c2c21259bb')\"\n",
              "            title=\"Suggest charts\"\n",
              "            style=\"display:none;\">\n",
              "\n",
              "<svg xmlns=\"http://www.w3.org/2000/svg\" height=\"24px\"viewBox=\"0 0 24 24\"\n",
              "     width=\"24px\">\n",
              "    <g>\n",
              "        <path d=\"M19 3H5c-1.1 0-2 .9-2 2v14c0 1.1.9 2 2 2h14c1.1 0 2-.9 2-2V5c0-1.1-.9-2-2-2zM9 17H7v-7h2v7zm4 0h-2V7h2v10zm4 0h-2v-4h2v4z\"/>\n",
              "    </g>\n",
              "</svg>\n",
              "  </button>\n",
              "\n",
              "<style>\n",
              "  .colab-df-quickchart {\n",
              "      --bg-color: #E8F0FE;\n",
              "      --fill-color: #1967D2;\n",
              "      --hover-bg-color: #E2EBFA;\n",
              "      --hover-fill-color: #174EA6;\n",
              "      --disabled-fill-color: #AAA;\n",
              "      --disabled-bg-color: #DDD;\n",
              "  }\n",
              "\n",
              "  [theme=dark] .colab-df-quickchart {\n",
              "      --bg-color: #3B4455;\n",
              "      --fill-color: #D2E3FC;\n",
              "      --hover-bg-color: #434B5C;\n",
              "      --hover-fill-color: #FFFFFF;\n",
              "      --disabled-bg-color: #3B4455;\n",
              "      --disabled-fill-color: #666;\n",
              "  }\n",
              "\n",
              "  .colab-df-quickchart {\n",
              "    background-color: var(--bg-color);\n",
              "    border: none;\n",
              "    border-radius: 50%;\n",
              "    cursor: pointer;\n",
              "    display: none;\n",
              "    fill: var(--fill-color);\n",
              "    height: 32px;\n",
              "    padding: 0;\n",
              "    width: 32px;\n",
              "  }\n",
              "\n",
              "  .colab-df-quickchart:hover {\n",
              "    background-color: var(--hover-bg-color);\n",
              "    box-shadow: 0 1px 2px rgba(60, 64, 67, 0.3), 0 1px 3px 1px rgba(60, 64, 67, 0.15);\n",
              "    fill: var(--button-hover-fill-color);\n",
              "  }\n",
              "\n",
              "  .colab-df-quickchart-complete:disabled,\n",
              "  .colab-df-quickchart-complete:disabled:hover {\n",
              "    background-color: var(--disabled-bg-color);\n",
              "    fill: var(--disabled-fill-color);\n",
              "    box-shadow: none;\n",
              "  }\n",
              "\n",
              "  .colab-df-spinner {\n",
              "    border: 2px solid var(--fill-color);\n",
              "    border-color: transparent;\n",
              "    border-bottom-color: var(--fill-color);\n",
              "    animation:\n",
              "      spin 1s steps(1) infinite;\n",
              "  }\n",
              "\n",
              "  @keyframes spin {\n",
              "    0% {\n",
              "      border-color: transparent;\n",
              "      border-bottom-color: var(--fill-color);\n",
              "      border-left-color: var(--fill-color);\n",
              "    }\n",
              "    20% {\n",
              "      border-color: transparent;\n",
              "      border-left-color: var(--fill-color);\n",
              "      border-top-color: var(--fill-color);\n",
              "    }\n",
              "    30% {\n",
              "      border-color: transparent;\n",
              "      border-left-color: var(--fill-color);\n",
              "      border-top-color: var(--fill-color);\n",
              "      border-right-color: var(--fill-color);\n",
              "    }\n",
              "    40% {\n",
              "      border-color: transparent;\n",
              "      border-right-color: var(--fill-color);\n",
              "      border-top-color: var(--fill-color);\n",
              "    }\n",
              "    60% {\n",
              "      border-color: transparent;\n",
              "      border-right-color: var(--fill-color);\n",
              "    }\n",
              "    80% {\n",
              "      border-color: transparent;\n",
              "      border-right-color: var(--fill-color);\n",
              "      border-bottom-color: var(--fill-color);\n",
              "    }\n",
              "    90% {\n",
              "      border-color: transparent;\n",
              "      border-bottom-color: var(--fill-color);\n",
              "    }\n",
              "  }\n",
              "</style>\n",
              "\n",
              "  <script>\n",
              "    async function quickchart(key) {\n",
              "      const quickchartButtonEl =\n",
              "        document.querySelector('#' + key + ' button');\n",
              "      quickchartButtonEl.disabled = true;  // To prevent multiple clicks.\n",
              "      quickchartButtonEl.classList.add('colab-df-spinner');\n",
              "      try {\n",
              "        const charts = await google.colab.kernel.invokeFunction(\n",
              "            'suggestCharts', [key], {});\n",
              "      } catch (error) {\n",
              "        console.error('Error during call to suggestCharts:', error);\n",
              "      }\n",
              "      quickchartButtonEl.classList.remove('colab-df-spinner');\n",
              "      quickchartButtonEl.classList.add('colab-df-quickchart-complete');\n",
              "    }\n",
              "    (() => {\n",
              "      let quickchartButtonEl =\n",
              "        document.querySelector('#df-e143c6d4-4b18-4b20-985f-74c2c21259bb button');\n",
              "      quickchartButtonEl.style.display =\n",
              "        google.colab.kernel.accessAllowed ? 'block' : 'none';\n",
              "    })();\n",
              "  </script>\n",
              "</div>\n",
              "    </div>\n",
              "  </div>\n"
            ],
            "text/plain": [
              "             Date\n",
              "10     10/10/1968\n",
              "30     10/10/1979\n",
              "45     10/10/1989\n",
              "63     10/10/1995\n",
              "72     10/10/1998\n",
              "...           ...\n",
              "80299    9/9/2012\n",
              "80305    9/9/2012\n",
              "80310    9/9/2012\n",
              "80316    9/9/2013\n",
              "80329    9/9/2013\n",
              "\n",
              "[8912 rows x 1 columns]"
            ]
          },
          "metadata": {},
          "output_type": "display_data"
        }
      ],
      "source": [
        "df_filtered[['Date', 'Time']] = df_filtered['datetime'].str.split(' ', n=1, expand=True)\n",
        "data = df_filtered.drop(columns=['datetime', 'Time'])\n",
        "\n",
        "# Display the filtered DataFrame\n",
        "display(data)"
      ]
    },
    {
      "cell_type": "markdown",
      "metadata": {
        "id": "iHS_74Fexutg"
      },
      "source": [
        "### **Add extra information to set up for prediction:**\n",
        "Here we add an extra column named `Observed` which shows whether a sighting was observed on the corresponding date. Since we only have the dates of UFO sightings observed, we want to fill the dates in between occurences with 0s to indicate no observations."
      ]
    },
    {
      "cell_type": "code",
      "execution_count": null,
      "metadata": {
        "colab": {
          "base_uri": "https://localhost:8080/",
          "height": 419
        },
        "id": "fIVhLFrCLN3L",
        "outputId": "8cd79216-1f92-4142-d20b-865bffff9bee"
      },
      "outputs": [
        {
          "data": {
            "application/vnd.google.colaboratory.intrinsic+json": {
              "summary": "{\n  \"name\": \"data\",\n  \"rows\": 28025,\n  \"fields\": [\n    {\n      \"column\": \"Date\",\n      \"properties\": {\n        \"dtype\": \"date\",\n        \"min\": \"1937-08-15 00:00:00\",\n        \"max\": \"2014-05-07 00:00:00\",\n        \"num_unique_values\": 28025,\n        \"samples\": [\n          \"1938-11-20 00:00:00\",\n          \"1997-04-11 00:00:00\",\n          \"1988-12-03 00:00:00\"\n        ],\n        \"semantic_type\": \"\",\n        \"description\": \"\"\n      }\n    },\n    {\n      \"column\": \"Observed\",\n      \"properties\": {\n        \"dtype\": \"number\",\n        \"std\": 0.37644473057982086,\n        \"min\": 0.0,\n        \"max\": 1.0,\n        \"num_unique_values\": 2,\n        \"samples\": [\n          0.0,\n          1.0\n        ],\n        \"semantic_type\": \"\",\n        \"description\": \"\"\n      }\n    }\n  ]\n}",
              "type": "dataframe",
              "variable_name": "data"
            },
            "text/html": [
              "\n",
              "  <div id=\"df-57957682-f785-4501-a641-41ac697a987a\" class=\"colab-df-container\">\n",
              "    <div>\n",
              "<style scoped>\n",
              "    .dataframe tbody tr th:only-of-type {\n",
              "        vertical-align: middle;\n",
              "    }\n",
              "\n",
              "    .dataframe tbody tr th {\n",
              "        vertical-align: top;\n",
              "    }\n",
              "\n",
              "    .dataframe thead th {\n",
              "        text-align: right;\n",
              "    }\n",
              "</style>\n",
              "<table border=\"1\" class=\"dataframe\">\n",
              "  <thead>\n",
              "    <tr style=\"text-align: right;\">\n",
              "      <th></th>\n",
              "      <th>Date</th>\n",
              "      <th>Observed</th>\n",
              "    </tr>\n",
              "  </thead>\n",
              "  <tbody>\n",
              "    <tr>\n",
              "      <th>0</th>\n",
              "      <td>1937-08-15</td>\n",
              "      <td>1.0</td>\n",
              "    </tr>\n",
              "    <tr>\n",
              "      <th>1</th>\n",
              "      <td>1937-08-16</td>\n",
              "      <td>0.0</td>\n",
              "    </tr>\n",
              "    <tr>\n",
              "      <th>2</th>\n",
              "      <td>1937-08-17</td>\n",
              "      <td>0.0</td>\n",
              "    </tr>\n",
              "    <tr>\n",
              "      <th>3</th>\n",
              "      <td>1937-08-18</td>\n",
              "      <td>0.0</td>\n",
              "    </tr>\n",
              "    <tr>\n",
              "      <th>4</th>\n",
              "      <td>1937-08-19</td>\n",
              "      <td>0.0</td>\n",
              "    </tr>\n",
              "    <tr>\n",
              "      <th>...</th>\n",
              "      <td>...</td>\n",
              "      <td>...</td>\n",
              "    </tr>\n",
              "    <tr>\n",
              "      <th>28020</th>\n",
              "      <td>2014-05-03</td>\n",
              "      <td>1.0</td>\n",
              "    </tr>\n",
              "    <tr>\n",
              "      <th>28021</th>\n",
              "      <td>2014-05-04</td>\n",
              "      <td>1.0</td>\n",
              "    </tr>\n",
              "    <tr>\n",
              "      <th>28022</th>\n",
              "      <td>2014-05-05</td>\n",
              "      <td>1.0</td>\n",
              "    </tr>\n",
              "    <tr>\n",
              "      <th>28023</th>\n",
              "      <td>2014-05-06</td>\n",
              "      <td>0.0</td>\n",
              "    </tr>\n",
              "    <tr>\n",
              "      <th>28024</th>\n",
              "      <td>2014-05-07</td>\n",
              "      <td>1.0</td>\n",
              "    </tr>\n",
              "  </tbody>\n",
              "</table>\n",
              "<p>28025 rows × 2 columns</p>\n",
              "</div>\n",
              "    <div class=\"colab-df-buttons\">\n",
              "\n",
              "  <div class=\"colab-df-container\">\n",
              "    <button class=\"colab-df-convert\" onclick=\"convertToInteractive('df-57957682-f785-4501-a641-41ac697a987a')\"\n",
              "            title=\"Convert this dataframe to an interactive table.\"\n",
              "            style=\"display:none;\">\n",
              "\n",
              "  <svg xmlns=\"http://www.w3.org/2000/svg\" height=\"24px\" viewBox=\"0 -960 960 960\">\n",
              "    <path d=\"M120-120v-720h720v720H120Zm60-500h600v-160H180v160Zm220 220h160v-160H400v160Zm0 220h160v-160H400v160ZM180-400h160v-160H180v160Zm440 0h160v-160H620v160ZM180-180h160v-160H180v160Zm440 0h160v-160H620v160Z\"/>\n",
              "  </svg>\n",
              "    </button>\n",
              "\n",
              "  <style>\n",
              "    .colab-df-container {\n",
              "      display:flex;\n",
              "      gap: 12px;\n",
              "    }\n",
              "\n",
              "    .colab-df-convert {\n",
              "      background-color: #E8F0FE;\n",
              "      border: none;\n",
              "      border-radius: 50%;\n",
              "      cursor: pointer;\n",
              "      display: none;\n",
              "      fill: #1967D2;\n",
              "      height: 32px;\n",
              "      padding: 0 0 0 0;\n",
              "      width: 32px;\n",
              "    }\n",
              "\n",
              "    .colab-df-convert:hover {\n",
              "      background-color: #E2EBFA;\n",
              "      box-shadow: 0px 1px 2px rgba(60, 64, 67, 0.3), 0px 1px 3px 1px rgba(60, 64, 67, 0.15);\n",
              "      fill: #174EA6;\n",
              "    }\n",
              "\n",
              "    .colab-df-buttons div {\n",
              "      margin-bottom: 4px;\n",
              "    }\n",
              "\n",
              "    [theme=dark] .colab-df-convert {\n",
              "      background-color: #3B4455;\n",
              "      fill: #D2E3FC;\n",
              "    }\n",
              "\n",
              "    [theme=dark] .colab-df-convert:hover {\n",
              "      background-color: #434B5C;\n",
              "      box-shadow: 0px 1px 3px 1px rgba(0, 0, 0, 0.15);\n",
              "      filter: drop-shadow(0px 1px 2px rgba(0, 0, 0, 0.3));\n",
              "      fill: #FFFFFF;\n",
              "    }\n",
              "  </style>\n",
              "\n",
              "    <script>\n",
              "      const buttonEl =\n",
              "        document.querySelector('#df-57957682-f785-4501-a641-41ac697a987a button.colab-df-convert');\n",
              "      buttonEl.style.display =\n",
              "        google.colab.kernel.accessAllowed ? 'block' : 'none';\n",
              "\n",
              "      async function convertToInteractive(key) {\n",
              "        const element = document.querySelector('#df-57957682-f785-4501-a641-41ac697a987a');\n",
              "        const dataTable =\n",
              "          await google.colab.kernel.invokeFunction('convertToInteractive',\n",
              "                                                    [key], {});\n",
              "        if (!dataTable) return;\n",
              "\n",
              "        const docLinkHtml = 'Like what you see? Visit the ' +\n",
              "          '<a target=\"_blank\" href=https://colab.research.google.com/notebooks/data_table.ipynb>data table notebook</a>'\n",
              "          + ' to learn more about interactive tables.';\n",
              "        element.innerHTML = '';\n",
              "        dataTable['output_type'] = 'display_data';\n",
              "        await google.colab.output.renderOutput(dataTable, element);\n",
              "        const docLink = document.createElement('div');\n",
              "        docLink.innerHTML = docLinkHtml;\n",
              "        element.appendChild(docLink);\n",
              "      }\n",
              "    </script>\n",
              "  </div>\n",
              "\n",
              "\n",
              "<div id=\"df-acb442cf-24f7-4c9e-adf0-0a0eabd4616e\">\n",
              "  <button class=\"colab-df-quickchart\" onclick=\"quickchart('df-acb442cf-24f7-4c9e-adf0-0a0eabd4616e')\"\n",
              "            title=\"Suggest charts\"\n",
              "            style=\"display:none;\">\n",
              "\n",
              "<svg xmlns=\"http://www.w3.org/2000/svg\" height=\"24px\"viewBox=\"0 0 24 24\"\n",
              "     width=\"24px\">\n",
              "    <g>\n",
              "        <path d=\"M19 3H5c-1.1 0-2 .9-2 2v14c0 1.1.9 2 2 2h14c1.1 0 2-.9 2-2V5c0-1.1-.9-2-2-2zM9 17H7v-7h2v7zm4 0h-2V7h2v10zm4 0h-2v-4h2v4z\"/>\n",
              "    </g>\n",
              "</svg>\n",
              "  </button>\n",
              "\n",
              "<style>\n",
              "  .colab-df-quickchart {\n",
              "      --bg-color: #E8F0FE;\n",
              "      --fill-color: #1967D2;\n",
              "      --hover-bg-color: #E2EBFA;\n",
              "      --hover-fill-color: #174EA6;\n",
              "      --disabled-fill-color: #AAA;\n",
              "      --disabled-bg-color: #DDD;\n",
              "  }\n",
              "\n",
              "  [theme=dark] .colab-df-quickchart {\n",
              "      --bg-color: #3B4455;\n",
              "      --fill-color: #D2E3FC;\n",
              "      --hover-bg-color: #434B5C;\n",
              "      --hover-fill-color: #FFFFFF;\n",
              "      --disabled-bg-color: #3B4455;\n",
              "      --disabled-fill-color: #666;\n",
              "  }\n",
              "\n",
              "  .colab-df-quickchart {\n",
              "    background-color: var(--bg-color);\n",
              "    border: none;\n",
              "    border-radius: 50%;\n",
              "    cursor: pointer;\n",
              "    display: none;\n",
              "    fill: var(--fill-color);\n",
              "    height: 32px;\n",
              "    padding: 0;\n",
              "    width: 32px;\n",
              "  }\n",
              "\n",
              "  .colab-df-quickchart:hover {\n",
              "    background-color: var(--hover-bg-color);\n",
              "    box-shadow: 0 1px 2px rgba(60, 64, 67, 0.3), 0 1px 3px 1px rgba(60, 64, 67, 0.15);\n",
              "    fill: var(--button-hover-fill-color);\n",
              "  }\n",
              "\n",
              "  .colab-df-quickchart-complete:disabled,\n",
              "  .colab-df-quickchart-complete:disabled:hover {\n",
              "    background-color: var(--disabled-bg-color);\n",
              "    fill: var(--disabled-fill-color);\n",
              "    box-shadow: none;\n",
              "  }\n",
              "\n",
              "  .colab-df-spinner {\n",
              "    border: 2px solid var(--fill-color);\n",
              "    border-color: transparent;\n",
              "    border-bottom-color: var(--fill-color);\n",
              "    animation:\n",
              "      spin 1s steps(1) infinite;\n",
              "  }\n",
              "\n",
              "  @keyframes spin {\n",
              "    0% {\n",
              "      border-color: transparent;\n",
              "      border-bottom-color: var(--fill-color);\n",
              "      border-left-color: var(--fill-color);\n",
              "    }\n",
              "    20% {\n",
              "      border-color: transparent;\n",
              "      border-left-color: var(--fill-color);\n",
              "      border-top-color: var(--fill-color);\n",
              "    }\n",
              "    30% {\n",
              "      border-color: transparent;\n",
              "      border-left-color: var(--fill-color);\n",
              "      border-top-color: var(--fill-color);\n",
              "      border-right-color: var(--fill-color);\n",
              "    }\n",
              "    40% {\n",
              "      border-color: transparent;\n",
              "      border-right-color: var(--fill-color);\n",
              "      border-top-color: var(--fill-color);\n",
              "    }\n",
              "    60% {\n",
              "      border-color: transparent;\n",
              "      border-right-color: var(--fill-color);\n",
              "    }\n",
              "    80% {\n",
              "      border-color: transparent;\n",
              "      border-right-color: var(--fill-color);\n",
              "      border-bottom-color: var(--fill-color);\n",
              "    }\n",
              "    90% {\n",
              "      border-color: transparent;\n",
              "      border-bottom-color: var(--fill-color);\n",
              "    }\n",
              "  }\n",
              "</style>\n",
              "\n",
              "  <script>\n",
              "    async function quickchart(key) {\n",
              "      const quickchartButtonEl =\n",
              "        document.querySelector('#' + key + ' button');\n",
              "      quickchartButtonEl.disabled = true;  // To prevent multiple clicks.\n",
              "      quickchartButtonEl.classList.add('colab-df-spinner');\n",
              "      try {\n",
              "        const charts = await google.colab.kernel.invokeFunction(\n",
              "            'suggestCharts', [key], {});\n",
              "      } catch (error) {\n",
              "        console.error('Error during call to suggestCharts:', error);\n",
              "      }\n",
              "      quickchartButtonEl.classList.remove('colab-df-spinner');\n",
              "      quickchartButtonEl.classList.add('colab-df-quickchart-complete');\n",
              "    }\n",
              "    (() => {\n",
              "      let quickchartButtonEl =\n",
              "        document.querySelector('#df-acb442cf-24f7-4c9e-adf0-0a0eabd4616e button');\n",
              "      quickchartButtonEl.style.display =\n",
              "        google.colab.kernel.accessAllowed ? 'block' : 'none';\n",
              "    })();\n",
              "  </script>\n",
              "</div>\n",
              "    </div>\n",
              "  </div>\n"
            ],
            "text/plain": [
              "            Date  Observed\n",
              "0     1937-08-15       1.0\n",
              "1     1937-08-16       0.0\n",
              "2     1937-08-17       0.0\n",
              "3     1937-08-18       0.0\n",
              "4     1937-08-19       0.0\n",
              "...          ...       ...\n",
              "28020 2014-05-03       1.0\n",
              "28021 2014-05-04       1.0\n",
              "28022 2014-05-05       1.0\n",
              "28023 2014-05-06       0.0\n",
              "28024 2014-05-07       1.0\n",
              "\n",
              "[28025 rows x 2 columns]"
            ]
          },
          "metadata": {},
          "output_type": "display_data"
        }
      ],
      "source": [
        "# Convert the current date format MM/DD/YYY to YYYY-MM-DD\n",
        "data['Date'] = pd.to_datetime(data['Date'])\n",
        "# Add an additional column\n",
        "data['Observed'] = 1\n",
        "# Remove duplicate dates as we don't need them\n",
        "data = data[~data['Date'].duplicated()]\n",
        "# Sort the dates from earliest to latest and fill the rows in between observed dates with 0\n",
        "r = pd.date_range(start=data['Date'].min(), end=data['Date'].max())\n",
        "data = data.set_index('Date').reindex(r).fillna(0.0).rename_axis('Date').reset_index()\n",
        "\n",
        "display(data)"
      ]
    },
    {
      "cell_type": "markdown",
      "metadata": {
        "id": "TLbjZxiKzaf5"
      },
      "source": [
        "### **Feature engineering:**\n",
        "Prediction of next release dates heavily relies on feature engineering because we do not have any features besides the date itself. Therefore, we add extra columns to feed more information about the dates into our model."
      ]
    },
    {
      "cell_type": "code",
      "execution_count": null,
      "metadata": {
        "colab": {
          "base_uri": "https://localhost:8080/",
          "height": 450
        },
        "id": "8nFDAyH2AHtF",
        "outputId": "540c7752-9c71-4707-8594-6636bc2f46a4"
      },
      "outputs": [
        {
          "data": {
            "application/vnd.google.colaboratory.intrinsic+json": {
              "summary": "{\n  \"name\": \"data\",\n  \"rows\": 28025,\n  \"fields\": [\n    {\n      \"column\": \"Date\",\n      \"properties\": {\n        \"dtype\": \"date\",\n        \"min\": \"1937-08-15 00:00:00\",\n        \"max\": \"2014-05-07 00:00:00\",\n        \"num_unique_values\": 28025,\n        \"samples\": [\n          \"1938-11-20 00:00:00\",\n          \"1997-04-11 00:00:00\",\n          \"1988-12-03 00:00:00\"\n        ],\n        \"semantic_type\": \"\",\n        \"description\": \"\"\n      }\n    },\n    {\n      \"column\": \"Observed\",\n      \"properties\": {\n        \"dtype\": \"number\",\n        \"std\": 0.37644473057982086,\n        \"min\": 0.0,\n        \"max\": 1.0,\n        \"num_unique_values\": 2,\n        \"samples\": [\n          0.0,\n          1.0\n        ],\n        \"semantic_type\": \"\",\n        \"description\": \"\"\n      }\n    },\n    {\n      \"column\": \"Month\",\n      \"properties\": {\n        \"dtype\": \"number\",\n        \"std\": 3,\n        \"min\": 1,\n        \"max\": 12,\n        \"num_unique_values\": 12,\n        \"samples\": [\n          6,\n          5\n        ],\n        \"semantic_type\": \"\",\n        \"description\": \"\"\n      }\n    },\n    {\n      \"column\": \"Day\",\n      \"properties\": {\n        \"dtype\": \"number\",\n        \"std\": 8,\n        \"min\": 1,\n        \"max\": 31,\n        \"num_unique_values\": 31,\n        \"samples\": [\n          11,\n          30\n        ],\n        \"semantic_type\": \"\",\n        \"description\": \"\"\n      }\n    },\n    {\n      \"column\": \"Workday_N\",\n      \"properties\": {\n        \"dtype\": \"number\",\n        \"std\": 6,\n        \"min\": 0,\n        \"max\": 22,\n        \"num_unique_values\": 23,\n        \"samples\": [\n          3,\n          19\n        ],\n        \"semantic_type\": \"\",\n        \"description\": \"\"\n      }\n    },\n    {\n      \"column\": \"Week_day\",\n      \"properties\": {\n        \"dtype\": \"number\",\n        \"std\": 2,\n        \"min\": 0,\n        \"max\": 6,\n        \"num_unique_values\": 7,\n        \"samples\": [\n          6,\n          0\n        ],\n        \"semantic_type\": \"\",\n        \"description\": \"\"\n      }\n    },\n    {\n      \"column\": \"Week_of_month\",\n      \"properties\": {\n        \"dtype\": \"number\",\n        \"std\": 1,\n        \"min\": 1,\n        \"max\": 6,\n        \"num_unique_values\": 6,\n        \"samples\": [\n          3,\n          4\n        ],\n        \"semantic_type\": \"\",\n        \"description\": \"\"\n      }\n    },\n    {\n      \"column\": \"Weekday_order\",\n      \"properties\": {\n        \"dtype\": \"number\",\n        \"std\": 1,\n        \"min\": 1,\n        \"max\": 5,\n        \"num_unique_values\": 5,\n        \"samples\": [\n          4,\n          2\n        ],\n        \"semantic_type\": \"\",\n        \"description\": \"\"\n      }\n    }\n  ]\n}",
              "type": "dataframe",
              "variable_name": "data"
            },
            "text/html": [
              "\n",
              "  <div id=\"df-0a102d4b-75fe-46e7-aef3-b26cc858992f\" class=\"colab-df-container\">\n",
              "    <div>\n",
              "<style scoped>\n",
              "    .dataframe tbody tr th:only-of-type {\n",
              "        vertical-align: middle;\n",
              "    }\n",
              "\n",
              "    .dataframe tbody tr th {\n",
              "        vertical-align: top;\n",
              "    }\n",
              "\n",
              "    .dataframe thead th {\n",
              "        text-align: right;\n",
              "    }\n",
              "</style>\n",
              "<table border=\"1\" class=\"dataframe\">\n",
              "  <thead>\n",
              "    <tr style=\"text-align: right;\">\n",
              "      <th></th>\n",
              "      <th>Observed</th>\n",
              "      <th>Month</th>\n",
              "      <th>Day</th>\n",
              "      <th>Workday_N</th>\n",
              "      <th>Week_day</th>\n",
              "      <th>Week_of_month</th>\n",
              "      <th>Weekday_order</th>\n",
              "    </tr>\n",
              "    <tr>\n",
              "      <th>Date</th>\n",
              "      <th></th>\n",
              "      <th></th>\n",
              "      <th></th>\n",
              "      <th></th>\n",
              "      <th></th>\n",
              "      <th></th>\n",
              "      <th></th>\n",
              "    </tr>\n",
              "  </thead>\n",
              "  <tbody>\n",
              "    <tr>\n",
              "      <th>1937-08-15</th>\n",
              "      <td>1.0</td>\n",
              "      <td>8</td>\n",
              "      <td>15</td>\n",
              "      <td>10</td>\n",
              "      <td>6</td>\n",
              "      <td>3</td>\n",
              "      <td>3</td>\n",
              "    </tr>\n",
              "    <tr>\n",
              "      <th>1937-08-16</th>\n",
              "      <td>0.0</td>\n",
              "      <td>8</td>\n",
              "      <td>16</td>\n",
              "      <td>10</td>\n",
              "      <td>0</td>\n",
              "      <td>4</td>\n",
              "      <td>3</td>\n",
              "    </tr>\n",
              "    <tr>\n",
              "      <th>1937-08-17</th>\n",
              "      <td>0.0</td>\n",
              "      <td>8</td>\n",
              "      <td>17</td>\n",
              "      <td>11</td>\n",
              "      <td>1</td>\n",
              "      <td>4</td>\n",
              "      <td>3</td>\n",
              "    </tr>\n",
              "    <tr>\n",
              "      <th>1937-08-18</th>\n",
              "      <td>0.0</td>\n",
              "      <td>8</td>\n",
              "      <td>18</td>\n",
              "      <td>12</td>\n",
              "      <td>2</td>\n",
              "      <td>4</td>\n",
              "      <td>3</td>\n",
              "    </tr>\n",
              "    <tr>\n",
              "      <th>1937-08-19</th>\n",
              "      <td>0.0</td>\n",
              "      <td>8</td>\n",
              "      <td>19</td>\n",
              "      <td>13</td>\n",
              "      <td>3</td>\n",
              "      <td>4</td>\n",
              "      <td>3</td>\n",
              "    </tr>\n",
              "    <tr>\n",
              "      <th>...</th>\n",
              "      <td>...</td>\n",
              "      <td>...</td>\n",
              "      <td>...</td>\n",
              "      <td>...</td>\n",
              "      <td>...</td>\n",
              "      <td>...</td>\n",
              "      <td>...</td>\n",
              "    </tr>\n",
              "    <tr>\n",
              "      <th>2014-05-03</th>\n",
              "      <td>1.0</td>\n",
              "      <td>5</td>\n",
              "      <td>3</td>\n",
              "      <td>2</td>\n",
              "      <td>5</td>\n",
              "      <td>1</td>\n",
              "      <td>1</td>\n",
              "    </tr>\n",
              "    <tr>\n",
              "      <th>2014-05-04</th>\n",
              "      <td>1.0</td>\n",
              "      <td>5</td>\n",
              "      <td>4</td>\n",
              "      <td>2</td>\n",
              "      <td>6</td>\n",
              "      <td>1</td>\n",
              "      <td>1</td>\n",
              "    </tr>\n",
              "    <tr>\n",
              "      <th>2014-05-05</th>\n",
              "      <td>1.0</td>\n",
              "      <td>5</td>\n",
              "      <td>5</td>\n",
              "      <td>2</td>\n",
              "      <td>0</td>\n",
              "      <td>2</td>\n",
              "      <td>1</td>\n",
              "    </tr>\n",
              "    <tr>\n",
              "      <th>2014-05-06</th>\n",
              "      <td>0.0</td>\n",
              "      <td>5</td>\n",
              "      <td>6</td>\n",
              "      <td>3</td>\n",
              "      <td>1</td>\n",
              "      <td>2</td>\n",
              "      <td>1</td>\n",
              "    </tr>\n",
              "    <tr>\n",
              "      <th>2014-05-07</th>\n",
              "      <td>1.0</td>\n",
              "      <td>5</td>\n",
              "      <td>7</td>\n",
              "      <td>4</td>\n",
              "      <td>2</td>\n",
              "      <td>2</td>\n",
              "      <td>1</td>\n",
              "    </tr>\n",
              "  </tbody>\n",
              "</table>\n",
              "<p>28025 rows × 7 columns</p>\n",
              "</div>\n",
              "    <div class=\"colab-df-buttons\">\n",
              "\n",
              "  <div class=\"colab-df-container\">\n",
              "    <button class=\"colab-df-convert\" onclick=\"convertToInteractive('df-0a102d4b-75fe-46e7-aef3-b26cc858992f')\"\n",
              "            title=\"Convert this dataframe to an interactive table.\"\n",
              "            style=\"display:none;\">\n",
              "\n",
              "  <svg xmlns=\"http://www.w3.org/2000/svg\" height=\"24px\" viewBox=\"0 -960 960 960\">\n",
              "    <path d=\"M120-120v-720h720v720H120Zm60-500h600v-160H180v160Zm220 220h160v-160H400v160Zm0 220h160v-160H400v160ZM180-400h160v-160H180v160Zm440 0h160v-160H620v160ZM180-180h160v-160H180v160Zm440 0h160v-160H620v160Z\"/>\n",
              "  </svg>\n",
              "    </button>\n",
              "\n",
              "  <style>\n",
              "    .colab-df-container {\n",
              "      display:flex;\n",
              "      gap: 12px;\n",
              "    }\n",
              "\n",
              "    .colab-df-convert {\n",
              "      background-color: #E8F0FE;\n",
              "      border: none;\n",
              "      border-radius: 50%;\n",
              "      cursor: pointer;\n",
              "      display: none;\n",
              "      fill: #1967D2;\n",
              "      height: 32px;\n",
              "      padding: 0 0 0 0;\n",
              "      width: 32px;\n",
              "    }\n",
              "\n",
              "    .colab-df-convert:hover {\n",
              "      background-color: #E2EBFA;\n",
              "      box-shadow: 0px 1px 2px rgba(60, 64, 67, 0.3), 0px 1px 3px 1px rgba(60, 64, 67, 0.15);\n",
              "      fill: #174EA6;\n",
              "    }\n",
              "\n",
              "    .colab-df-buttons div {\n",
              "      margin-bottom: 4px;\n",
              "    }\n",
              "\n",
              "    [theme=dark] .colab-df-convert {\n",
              "      background-color: #3B4455;\n",
              "      fill: #D2E3FC;\n",
              "    }\n",
              "\n",
              "    [theme=dark] .colab-df-convert:hover {\n",
              "      background-color: #434B5C;\n",
              "      box-shadow: 0px 1px 3px 1px rgba(0, 0, 0, 0.15);\n",
              "      filter: drop-shadow(0px 1px 2px rgba(0, 0, 0, 0.3));\n",
              "      fill: #FFFFFF;\n",
              "    }\n",
              "  </style>\n",
              "\n",
              "    <script>\n",
              "      const buttonEl =\n",
              "        document.querySelector('#df-0a102d4b-75fe-46e7-aef3-b26cc858992f button.colab-df-convert');\n",
              "      buttonEl.style.display =\n",
              "        google.colab.kernel.accessAllowed ? 'block' : 'none';\n",
              "\n",
              "      async function convertToInteractive(key) {\n",
              "        const element = document.querySelector('#df-0a102d4b-75fe-46e7-aef3-b26cc858992f');\n",
              "        const dataTable =\n",
              "          await google.colab.kernel.invokeFunction('convertToInteractive',\n",
              "                                                    [key], {});\n",
              "        if (!dataTable) return;\n",
              "\n",
              "        const docLinkHtml = 'Like what you see? Visit the ' +\n",
              "          '<a target=\"_blank\" href=https://colab.research.google.com/notebooks/data_table.ipynb>data table notebook</a>'\n",
              "          + ' to learn more about interactive tables.';\n",
              "        element.innerHTML = '';\n",
              "        dataTable['output_type'] = 'display_data';\n",
              "        await google.colab.output.renderOutput(dataTable, element);\n",
              "        const docLink = document.createElement('div');\n",
              "        docLink.innerHTML = docLinkHtml;\n",
              "        element.appendChild(docLink);\n",
              "      }\n",
              "    </script>\n",
              "  </div>\n",
              "\n",
              "\n",
              "<div id=\"df-2c579829-9354-47c1-818f-6e1d9bf4b29c\">\n",
              "  <button class=\"colab-df-quickchart\" onclick=\"quickchart('df-2c579829-9354-47c1-818f-6e1d9bf4b29c')\"\n",
              "            title=\"Suggest charts\"\n",
              "            style=\"display:none;\">\n",
              "\n",
              "<svg xmlns=\"http://www.w3.org/2000/svg\" height=\"24px\"viewBox=\"0 0 24 24\"\n",
              "     width=\"24px\">\n",
              "    <g>\n",
              "        <path d=\"M19 3H5c-1.1 0-2 .9-2 2v14c0 1.1.9 2 2 2h14c1.1 0 2-.9 2-2V5c0-1.1-.9-2-2-2zM9 17H7v-7h2v7zm4 0h-2V7h2v10zm4 0h-2v-4h2v4z\"/>\n",
              "    </g>\n",
              "</svg>\n",
              "  </button>\n",
              "\n",
              "<style>\n",
              "  .colab-df-quickchart {\n",
              "      --bg-color: #E8F0FE;\n",
              "      --fill-color: #1967D2;\n",
              "      --hover-bg-color: #E2EBFA;\n",
              "      --hover-fill-color: #174EA6;\n",
              "      --disabled-fill-color: #AAA;\n",
              "      --disabled-bg-color: #DDD;\n",
              "  }\n",
              "\n",
              "  [theme=dark] .colab-df-quickchart {\n",
              "      --bg-color: #3B4455;\n",
              "      --fill-color: #D2E3FC;\n",
              "      --hover-bg-color: #434B5C;\n",
              "      --hover-fill-color: #FFFFFF;\n",
              "      --disabled-bg-color: #3B4455;\n",
              "      --disabled-fill-color: #666;\n",
              "  }\n",
              "\n",
              "  .colab-df-quickchart {\n",
              "    background-color: var(--bg-color);\n",
              "    border: none;\n",
              "    border-radius: 50%;\n",
              "    cursor: pointer;\n",
              "    display: none;\n",
              "    fill: var(--fill-color);\n",
              "    height: 32px;\n",
              "    padding: 0;\n",
              "    width: 32px;\n",
              "  }\n",
              "\n",
              "  .colab-df-quickchart:hover {\n",
              "    background-color: var(--hover-bg-color);\n",
              "    box-shadow: 0 1px 2px rgba(60, 64, 67, 0.3), 0 1px 3px 1px rgba(60, 64, 67, 0.15);\n",
              "    fill: var(--button-hover-fill-color);\n",
              "  }\n",
              "\n",
              "  .colab-df-quickchart-complete:disabled,\n",
              "  .colab-df-quickchart-complete:disabled:hover {\n",
              "    background-color: var(--disabled-bg-color);\n",
              "    fill: var(--disabled-fill-color);\n",
              "    box-shadow: none;\n",
              "  }\n",
              "\n",
              "  .colab-df-spinner {\n",
              "    border: 2px solid var(--fill-color);\n",
              "    border-color: transparent;\n",
              "    border-bottom-color: var(--fill-color);\n",
              "    animation:\n",
              "      spin 1s steps(1) infinite;\n",
              "  }\n",
              "\n",
              "  @keyframes spin {\n",
              "    0% {\n",
              "      border-color: transparent;\n",
              "      border-bottom-color: var(--fill-color);\n",
              "      border-left-color: var(--fill-color);\n",
              "    }\n",
              "    20% {\n",
              "      border-color: transparent;\n",
              "      border-left-color: var(--fill-color);\n",
              "      border-top-color: var(--fill-color);\n",
              "    }\n",
              "    30% {\n",
              "      border-color: transparent;\n",
              "      border-left-color: var(--fill-color);\n",
              "      border-top-color: var(--fill-color);\n",
              "      border-right-color: var(--fill-color);\n",
              "    }\n",
              "    40% {\n",
              "      border-color: transparent;\n",
              "      border-right-color: var(--fill-color);\n",
              "      border-top-color: var(--fill-color);\n",
              "    }\n",
              "    60% {\n",
              "      border-color: transparent;\n",
              "      border-right-color: var(--fill-color);\n",
              "    }\n",
              "    80% {\n",
              "      border-color: transparent;\n",
              "      border-right-color: var(--fill-color);\n",
              "      border-bottom-color: var(--fill-color);\n",
              "    }\n",
              "    90% {\n",
              "      border-color: transparent;\n",
              "      border-bottom-color: var(--fill-color);\n",
              "    }\n",
              "  }\n",
              "</style>\n",
              "\n",
              "  <script>\n",
              "    async function quickchart(key) {\n",
              "      const quickchartButtonEl =\n",
              "        document.querySelector('#' + key + ' button');\n",
              "      quickchartButtonEl.disabled = true;  // To prevent multiple clicks.\n",
              "      quickchartButtonEl.classList.add('colab-df-spinner');\n",
              "      try {\n",
              "        const charts = await google.colab.kernel.invokeFunction(\n",
              "            'suggestCharts', [key], {});\n",
              "      } catch (error) {\n",
              "        console.error('Error during call to suggestCharts:', error);\n",
              "      }\n",
              "      quickchartButtonEl.classList.remove('colab-df-spinner');\n",
              "      quickchartButtonEl.classList.add('colab-df-quickchart-complete');\n",
              "    }\n",
              "    (() => {\n",
              "      let quickchartButtonEl =\n",
              "        document.querySelector('#df-2c579829-9354-47c1-818f-6e1d9bf4b29c button');\n",
              "      quickchartButtonEl.style.display =\n",
              "        google.colab.kernel.accessAllowed ? 'block' : 'none';\n",
              "    })();\n",
              "  </script>\n",
              "</div>\n",
              "    </div>\n",
              "  </div>\n"
            ],
            "text/plain": [
              "            Observed  Month  Day  Workday_N  Week_day  Week_of_month  \\\n",
              "Date                                                                   \n",
              "1937-08-15       1.0      8   15         10         6              3   \n",
              "1937-08-16       0.0      8   16         10         0              4   \n",
              "1937-08-17       0.0      8   17         11         1              4   \n",
              "1937-08-18       0.0      8   18         12         2              4   \n",
              "1937-08-19       0.0      8   19         13         3              4   \n",
              "...              ...    ...  ...        ...       ...            ...   \n",
              "2014-05-03       1.0      5    3          2         5              1   \n",
              "2014-05-04       1.0      5    4          2         6              1   \n",
              "2014-05-05       1.0      5    5          2         0              2   \n",
              "2014-05-06       0.0      5    6          3         1              2   \n",
              "2014-05-07       1.0      5    7          4         2              2   \n",
              "\n",
              "            Weekday_order  \n",
              "Date                       \n",
              "1937-08-15              3  \n",
              "1937-08-16              3  \n",
              "1937-08-17              3  \n",
              "1937-08-18              3  \n",
              "1937-08-19              3  \n",
              "...                   ...  \n",
              "2014-05-03              1  \n",
              "2014-05-04              1  \n",
              "2014-05-05              1  \n",
              "2014-05-06              1  \n",
              "2014-05-07              1  \n",
              "\n",
              "[28025 rows x 7 columns]"
            ]
          },
          "metadata": {},
          "output_type": "display_data"
        }
      ],
      "source": [
        "# Extract/create more information about the dates\n",
        "data['Month'] = data['Date'].dt.month\n",
        "data['Day'] = data['Date'].dt.day\n",
        "# The number of business day corresponding to the date (1st business day starts from 0)\n",
        "# for example, 05/07/2014 was the 5th business day of that month, so it's shown as 4 in the chart\n",
        "data['Workday_N'] = np.busday_count(\n",
        "                    data['Date'].values.astype('datetime64[M]'),\n",
        "                    data['Date'].values.astype('datetime64[D]'))\n",
        "# Which day of the week that day was (0 to 6 for Monday to Sunday)\n",
        "# for example, 08/15/1937 was Sunday, so it's shown as 6 in the chart\n",
        "data['Week_day'] = data['Date'].dt.weekday\n",
        "# Which week of the month that month was\n",
        "# for example, the week of 08/16/1937 was the 4th week of that month\n",
        "data['Week_of_month'] = (data['Date'].dt.day\n",
        "                         - data['Date'].dt.weekday - 2) // 7 + 2\n",
        "data['Weekday_order'] = (data['Date'].dt.day + 6) // 7\n",
        "# Set the 'Date' itself as the index for better readability\n",
        "data = data.set_index('Date')\n",
        "display(data)"
      ]
    },
    {
      "cell_type": "markdown",
      "metadata": {
        "id": "ppx4weda0F9X"
      },
      "source": [
        "### **Train and test split:**\n",
        "Split the preprocessed dataset with a ratio of 70:30 with the ``Observed`` column values as the target variables."
      ]
    },
    {
      "cell_type": "code",
      "execution_count": null,
      "metadata": {
        "id": "KloaoZvuJPWp"
      },
      "outputs": [],
      "source": [
        "x = data.drop(['Observed'], axis=1)\n",
        "y = data['Observed']  # Target variable\n",
        "\n",
        "x_train, x_test, y_train, y_test = train_test_split(x, y, test_size=0.3, random_state=42)"
      ]
    },
    {
      "cell_type": "markdown",
      "metadata": {
        "id": "tFURrgYVZxXi"
      },
      "source": [
        "### **Train and test the data:**\n",
        "We used *RandomForestClassifier* because this model often results in higher accuracy compared to individual decision trees, as it reduces overfitting and variance. This is because it builds multiple trees and averages their predictions, which helps generalize well to unseen data.\n",
        "\n",
        "But first, we do GridSearch for the best parameters to get high accuracy."
      ]
    },
    {
      "cell_type": "code",
      "execution_count": null,
      "metadata": {
        "colab": {
          "base_uri": "https://localhost:8080/"
        },
        "id": "8feTpikVpzKE",
        "outputId": "ef7f9bd3-6b6c-4305-ae3f-1fb442359d13"
      },
      "outputs": [
        {
          "name": "stdout",
          "output_type": "stream",
          "text": [
            "Best Parameters: {'max_depth': 10, 'min_samples_leaf': 4, 'min_samples_split': 10, 'n_estimators': 50}\n",
            "              precision    recall  f1-score   support\n",
            "\n",
            "         0.0       0.84      0.99      0.91      7001\n",
            "         1.0       0.55      0.04      0.07      1407\n",
            "\n",
            "    accuracy                           0.83      8408\n",
            "   macro avg       0.69      0.52      0.49      8408\n",
            "weighted avg       0.79      0.83      0.77      8408\n",
            "\n"
          ]
        }
      ],
      "source": [
        "# GridSearch parameters:\n",
        "param_grid = {\n",
        "    'n_estimators': [50, 100, 150],\n",
        "    'max_depth': [10, 20, 30],\n",
        "    'min_samples_split': [2, 5, 10],\n",
        "    'min_samples_leaf': [1, 2, 4]\n",
        "}\n",
        "\n",
        "# Model definition:\n",
        "model = RandomForestClassifier(random_state=42)\n",
        "\n",
        "# Instantiate GridSearchCV\n",
        "grid_search = GridSearchCV(estimator=model, param_grid=param_grid, cv=5, scoring='accuracy')\n",
        "# Fit the grid search to the data\n",
        "grid_search.fit(x_train, y_train)\n",
        "# Print the best parameters found\n",
        "print(\"Best Parameters:\", grid_search.best_params_)\n",
        "\n",
        "# Get the best model\n",
        "best_model = grid_search.best_estimator_\n",
        "# Predict using the best model\n",
        "rf_pred = best_model.predict(x_test)\n",
        "# Print classification report\n",
        "print(classification_report(y_test, rf_pred))"
      ]
    },
    {
      "cell_type": "markdown",
      "metadata": {
        "id": "hbCLwEw01Kqo"
      },
      "source": [
        "**Confusion matrix on the training result:**"
      ]
    },
    {
      "cell_type": "code",
      "execution_count": null,
      "metadata": {
        "colab": {
          "base_uri": "https://localhost:8080/"
        },
        "id": "e1QQru6IfgRx",
        "outputId": "d7ff5afc-380e-4e55-c44b-ab0a78b58a5e"
      },
      "outputs": [
        {
          "name": "stdout",
          "output_type": "stream",
          "text": [
            "\n",
            "Confusion Matrix:\n",
            "[[6956 1352]\n",
            " [  45   55]]\n",
            "\n",
            "TP: 55\n",
            "TN: 6956\n",
            "FP: 1352\n",
            "FN: 45\n"
          ]
        }
      ],
      "source": [
        "\n",
        "rf_matrix = metrics.confusion_matrix(rf_pred, y_test)\n",
        "tn, fp, fn, tp = rf_matrix.ravel()\n",
        "print(f\"\\nConfusion Matrix:\")\n",
        "print(rf_matrix)\n",
        "print(f\"\\nTP: {tp}\")\n",
        "print(f\"TN: {tn}\")\n",
        "print(f\"FP: {fp}\")\n",
        "print(f\"FN: {fn}\")"
      ]
    },
    {
      "cell_type": "markdown",
      "metadata": {
        "id": "D4r4bAvS0Y5g"
      },
      "source": [
        "### **Another model:**\n",
        "\n",
        "Our instructor Pu recommended, we looked into implementing a Long-Short Term Memory (LSTM) model for our prediction task since we were doing a time projection. LSTM is useful and efficient for time-series data and temporally dependent data. We proposed that since we have historical dates available, we might be able to treat these dates as dependencies for the purposes of predicting the future. Thus, LSTM would help us learn these dependencies similarly to a Random Forest Classifier (RFC) would. However, this model resulted in a testing accuracy of ~83% which is close to that of RFC. We proceeded to use RFC for the future date prediction part because LSTM was more complex and overly variable (customizable layers led us to experiment with multiple different architectures and more sets of parameters)."
      ]
    },
    {
      "cell_type": "code",
      "execution_count": null,
      "metadata": {
        "id": "GXvI0dwq0Utw"
      },
      "outputs": [],
      "source": [
        "# Reshape x_train and x_test to add a third dimension (LSTM layer expects a 3D array as input)\n",
        "x_train_reshaped = x_train.values.reshape(x_train.shape[0], x_train.shape[1], 1)\n",
        "x_test_reshaped = x_test.values.reshape(x_test.shape[0], x_test.shape[1], 1)\n",
        "\n",
        "# Build a model with 1D convolutional and LSTM layers\n",
        "# Sequential() reference: https://keras.io/guides/sequential_model/\n",
        "# Conv1D reference: https://keras.io/api/layers/convolution_layers/convolution1d/\n",
        "# LSTM reference: https://keras.io/api/layers/recurrent_layers/lstm/\n",
        "model = Sequential()\n",
        "model.add(Conv1D(filters=32, kernel_size=3, activation='relu', input_shape=(7, 1)))\n",
        "model.add(MaxPooling1D(pool_size=2))\n",
        "model.add(LSTM(32))\n",
        "model.add(Dropout(0.2))\n",
        "model.add(Dense(1, activation='sigmoid'))\n",
        "model.summary()\n",
        "sgd = keras.optimizers.SGD(0.002, 0.9, False)\n",
        "model.compile(loss='binary_crossentropy',\n",
        "              optimizer=sgd,\n",
        "              metrics=['accuracy'])\n",
        "# Create tuple objects from the test sets as the validation data\n",
        "val_data = (x_test_reshaped, y_test)\n",
        "\n",
        "# Fit the model\n",
        "history = model.fit(x_train_reshaped, y_train, epochs=10, batch_size=32, validation_data=val_data, verbose=0)\n",
        "# Predict the classes\n",
        "y_pred = model.predict(x_test_reshaped).astype(int)   # classification metrics takes in integer type data\n",
        "\n",
        "# Evaluate the model performance\n",
        "scores = model.evaluate(x_test_reshaped, y_test, verbose=0)\n",
        "print(f'Accuracy: {scores[1]*100:.2f}%')\n",
        "\n",
        "print(\"Classification Report:\")\n",
        "print(classification_report(y_test, y_pred))"
      ]
    },
    {
      "cell_type": "markdown",
      "metadata": {
        "id": "PgXCPR2W6Fha"
      },
      "source": [
        "As mentioned earlier, the classification metrics are very similar to RFC. Since both models had similar performances, we proceeded to predict future sightings using RFC due to its simplicity."
      ]
    },
    {
      "cell_type": "markdown",
      "metadata": {
        "id": "ghrIHZMm1s14"
      },
      "source": [
        "### **Predict future date:**\n",
        "We now create DataFrame with future dates for prediction and use our trained RandomForest model to predict future UFO sightings for one year ahead."
      ]
    },
    {
      "cell_type": "code",
      "execution_count": null,
      "metadata": {
        "id": "2Z_ar_xnH2_T"
      },
      "outputs": [],
      "source": [
        "x_predict = pd.DataFrame(pd.date_range(date.today(), (date.today() +\n",
        "            relativedelta(years=1)),freq='d'), columns=['Date'])\n",
        "\n",
        "x_predict['Month'] = x_predict['Date'].dt.month\n",
        "x_predict['Day'] = x_predict['Date'].dt.day\n",
        "x_predict['Workday_N'] = np.busday_count(\n",
        "                x_predict['Date'].values.astype('datetime64[M]'),\n",
        "                x_predict['Date'].values.astype('datetime64[D]'))\n",
        "x_predict['Week_day'] = x_predict['Date'].dt.weekday\n",
        "x_predict['Week_of_month'] = (x_predict['Date'].dt.day -\n",
        "                              x_predict['Date'].dt.weekday - 2)//7+2\n",
        "x_predict['Weekday_order'] = (x_predict['Date'].dt.day + 6) // 7\n",
        "\n",
        "x_predict = x_predict.set_index('Date')\n",
        "prediction = best_model.predict(x_predict)\n",
        "prediction = pd.DataFrame(prediction, columns=['Prediction'])\n",
        "prediction['Date'] = x_predict.index\n",
        "\n",
        "next_sightings = prediction[prediction['Prediction'] == 1]\n",
        "next_sightings = next_sightings.reset_index()\n",
        "next_sightings = next_sightings.drop(columns=['index'])\n",
        "display(next_sightings)"
      ]
    },
    {
      "cell_type": "markdown",
      "metadata": {
        "id": "2ITXHreqx96c"
      },
      "source": [
        "### **Question 2**"
      ]
    },
    {
      "cell_type": "markdown",
      "metadata": {
        "id": "ybe1pgO3x96c"
      },
      "source": [
        "Where in California will the next UFO sighting be?"
      ]
    },
    {
      "cell_type": "markdown",
      "metadata": {
        "id": "KV5HOfGhx96c"
      },
      "source": [
        "### **Load the Data & Filter for California Datapoints**"
      ]
    },
    {
      "cell_type": "code",
      "execution_count": null,
      "metadata": {
        "id": "8SPDCVjrx96c"
      },
      "outputs": [],
      "source": [
        "ufo = df\n",
        "ufo.head()"
      ]
    },
    {
      "cell_type": "markdown",
      "metadata": {
        "id": "a4EYjTm4m89V"
      },
      "source": [
        "We are only predicting the next UFO sightings in California, so we only need the rows that have 'ca' in their `state` column."
      ]
    },
    {
      "cell_type": "code",
      "execution_count": null,
      "metadata": {
        "id": "LCxNzD4Ux96d"
      },
      "outputs": [],
      "source": [
        "# Filter for datapoints for California sightings\n",
        "ufo = ufo[(ufo['state'] == 'ca') & (ufo['country'] == 'us')]\n",
        "# Drop Nan\n",
        "ufo.dropna(inplace=True)\n",
        "# Rename columns for clarity\n",
        "ufo = ufo.rename(columns = {'duration (seconds)': 'duration_second',\n",
        "    'date posted': 'date_posted', 'longitude ': 'longitude'})"
      ]
    },
    {
      "cell_type": "markdown",
      "metadata": {
        "id": "ZhG6Jy-9x96d"
      },
      "source": [
        "### **Feature Engineering**"
      ]
    },
    {
      "cell_type": "markdown",
      "metadata": {
        "id": "Txuggi9GnBrg"
      },
      "source": [
        "From the `datetime` feature, we will extract the minute, hour, day, month, and year to create separate columns containing these values"
      ]
    },
    {
      "cell_type": "code",
      "execution_count": null,
      "metadata": {
        "id": "xokcCbJ3x96d"
      },
      "outputs": [],
      "source": [
        "# Split Datetime into New Columns\n",
        "ufo['datetime'] = pd.to_datetime(ufo['datetime'], errors='coerce')\n",
        "ufo.replace([np.inf, -np.inf], np.nan, inplace=True)\n",
        "ufo.dropna(inplace=True)\n",
        "\n",
        "ufo['datetime_month'] = ufo['datetime'].dt.month.astype(int)\n",
        "ufo['datetime_day'] = ufo['datetime'].dt.day.astype(int)\n",
        "ufo['datetime_year'] = ufo['datetime'].dt.year.astype(int)\n",
        "ufo['datetime_hour'] = ufo['datetime'].dt.hour.astype(int)\n",
        "ufo['datetime_min'] = ufo['datetime'].dt.minute.astype(int)"
      ]
    },
    {
      "cell_type": "markdown",
      "metadata": {
        "id": "2FFn9Uqfx96d"
      },
      "source": [
        "### **Remove Columns Not Used**"
      ]
    },
    {
      "cell_type": "code",
      "execution_count": null,
      "metadata": {
        "id": "rekvSfITx96d"
      },
      "outputs": [],
      "source": [
        "# Drop the original 'datetime', 'date_posted', 'comments', 'duration (hours/min)' columns\n",
        "ufo = ufo.drop(columns=['datetime','date_posted','comments','duration (hours/min)', 'state', 'country'], axis=1)"
      ]
    },
    {
      "cell_type": "markdown",
      "metadata": {
        "id": "qTR0L7d5x96d"
      },
      "source": [
        "### **Reducing Shape Column Complexity**"
      ]
    },
    {
      "cell_type": "markdown",
      "metadata": {
        "id": "SB5-MQjvnZIJ"
      },
      "source": [
        "In order to make our model more generalizable, we decided to group together shapes based on similar descriptions to reduce the number of categories from 23 to 11"
      ]
    },
    {
      "cell_type": "code",
      "execution_count": null,
      "metadata": {
        "id": "pMejUx0Nx96e"
      },
      "outputs": [],
      "source": [
        "#Visualizing the most frequently observed UFO shape\n",
        "plt.figure(figsize=(11, 6))\n",
        "sns.countplot(y='shape', data=ufo, palette='viridis')\n",
        "plt.xlabel('UFO Shape')\n",
        "plt.ylabel('Count')\n",
        "plt.title('Types of UFO Seen')\n",
        "plt.show()"
      ]
    },
    {
      "cell_type": "code",
      "execution_count": null,
      "metadata": {
        "id": "YD0MOR_Ux96e"
      },
      "outputs": [],
      "source": [
        "# Reduce Shape Complexity By Grouping Values\n",
        "print(ufo['shape'].unique())\n",
        "shape = {\n",
        "    'round': ['circle', 'disk', 'sphere', 'round'],\n",
        "    'oval': ['egg', 'oval'],\n",
        "    'triangular': ['triangle', 'cone'],\n",
        "    'rectangular': ['rectangle', 'diamond'],\n",
        "    'light': ['light', 'flash', 'flare'],\n",
        "    'teardrop': ['teardrop', 'fireball'],\n",
        "    'cylindrical': ['cylinder', 'cigar'],\n",
        "    'cross': ['cross'],\n",
        "    'chevron': ['chevron'],\n",
        "    'other': ['other', 'unknown'],\n",
        "    'other2':['formation', 'changing']\n",
        "}\n",
        "\n",
        "for ufo_shape, ali in shape.items():\n",
        "    ufo.loc[ufo['shape'].isin(ali), 'ufo_shape'] = ufo_shape\n",
        "\n",
        "#Drop original column\n",
        "ufo.drop(columns=['shape'], inplace=True)\n",
        "ufo.head()"
      ]
    },
    {
      "cell_type": "markdown",
      "metadata": {
        "id": "YkmgPtHvx96f"
      },
      "source": [
        "### **Visualizing Features**"
      ]
    },
    {
      "cell_type": "code",
      "execution_count": null,
      "metadata": {
        "id": "xZIMM2iBx96f"
      },
      "outputs": [],
      "source": [
        "#Convert type columns from object to float\n",
        "ufo['latitude'] = ufo['latitude'].astype('float64')\n",
        "ufo['duration_second'] = ufo['duration_second'].astype('float64')\n",
        "\n",
        "#Create list with columns dtype object\n",
        "object_col = [x for x in ufo.columns if ufo[x].dtype == 'object']"
      ]
    },
    {
      "cell_type": "code",
      "execution_count": null,
      "metadata": {
        "id": "2-4SA77Nx96g"
      },
      "outputs": [],
      "source": [
        "# Correlation columns\n",
        "plt.figure(figsize=(12, 5))\n",
        "sns.heatmap(ufo.select_dtypes(include=['int64', 'float64']).corr(), annot=True)\n",
        "plt.title('Correlation with Numerical Columns')\n",
        "plt.show()"
      ]
    },
    {
      "cell_type": "markdown",
      "metadata": {
        "id": "21P4hNNpn2cz"
      },
      "source": [
        "From our heatmap, we can see that the new features added from the `datetime` are slightly correlated."
      ]
    },
    {
      "cell_type": "code",
      "execution_count": null,
      "metadata": {
        "colab": {
          "base_uri": "https://localhost:8080/",
          "height": 173
        },
        "id": "we-rbp1yx96g",
        "outputId": "2de7c64b-6878-492c-c8b5-5dc17ba00a83"
      },
      "outputs": [
        {
          "ename": "NameError",
          "evalue": "name 'ufo' is not defined",
          "output_type": "error",
          "traceback": [
            "\u001b[0;31m---------------------------------------------------------------------------\u001b[0m",
            "\u001b[0;31mNameError\u001b[0m                                 Traceback (most recent call last)",
            "\u001b[0;32m<ipython-input-2-ec009ffee1c2>\u001b[0m in \u001b[0;36m<cell line: 2>\u001b[0;34m()\u001b[0m\n\u001b[1;32m      1\u001b[0m \u001b[0;31m#Plot histograms of columns\u001b[0m\u001b[0;34m\u001b[0m\u001b[0;34m\u001b[0m\u001b[0m\n\u001b[0;32m----> 2\u001b[0;31m \u001b[0mufo\u001b[0m\u001b[0;34m.\u001b[0m\u001b[0mhist\u001b[0m\u001b[0;34m(\u001b[0m\u001b[0mfigsize\u001b[0m\u001b[0;34m=\u001b[0m\u001b[0;34m(\u001b[0m\u001b[0;36m15\u001b[0m\u001b[0;34m,\u001b[0m \u001b[0;36m15\u001b[0m\u001b[0;34m)\u001b[0m\u001b[0;34m)\u001b[0m\u001b[0;34m\u001b[0m\u001b[0;34m\u001b[0m\u001b[0m\n\u001b[0m\u001b[1;32m      3\u001b[0m \u001b[0mplt\u001b[0m\u001b[0;34m.\u001b[0m\u001b[0mshow\u001b[0m\u001b[0;34m(\u001b[0m\u001b[0;34m)\u001b[0m\u001b[0;34m\u001b[0m\u001b[0;34m\u001b[0m\u001b[0m\n",
            "\u001b[0;31mNameError\u001b[0m: name 'ufo' is not defined"
          ]
        }
      ],
      "source": [
        "#Plot histograms of columns\n",
        "ufo.hist(figsize=(15, 15))\n",
        "plt.show()"
      ]
    },
    {
      "cell_type": "code",
      "execution_count": null,
      "metadata": {
        "id": "PRKFpgrsx96h"
      },
      "outputs": [],
      "source": [
        "hold = ufo.plot(\n",
        "    kind='box',\n",
        "    subplots=True,\n",
        "    sharey=False,\n",
        "    figsize=(10, 6)\n",
        ")\n",
        "\n",
        "# increase spacing between subplots\n",
        "plt.subplots_adjust(wspace=2)\n",
        "plt.show()"
      ]
    },
    {
      "cell_type": "markdown",
      "metadata": {
        "id": "5AhCIG9DoJu7"
      },
      "source": [
        "We felt that including datapoints deemed outliers from the standard cutoffs in our training and testing set would be beneficial due to the entire dataset being based on a subjective ufo sighting events, so separating between outliers and non-outliers would be difficult.  "
      ]
    },
    {
      "cell_type": "markdown",
      "metadata": {
        "id": "771BEul2x96h"
      },
      "source": [
        "### **Encoding Columns**"
      ]
    },
    {
      "cell_type": "markdown",
      "metadata": {
        "id": "UhCpbHiEo5so"
      },
      "source": [
        "We chose to represent the categorical data as numerical values due to our targets being numerical and therefore we would be using a regression model."
      ]
    },
    {
      "cell_type": "code",
      "execution_count": null,
      "metadata": {
        "id": "9J7Tf0Nlx96h"
      },
      "outputs": [],
      "source": [
        "# Encoding Object Columns\n",
        "ufo_temp = ufo.copy()\n",
        "object_columns = list(ufo_temp.select_dtypes(include='object'))\n",
        "le = LabelEncoder()\n",
        "for col in object_columns:\n",
        "  ufo_temp[col] = le.fit_transform(ufo_temp[col])\n",
        "ufo_temp.head()"
      ]
    },
    {
      "cell_type": "markdown",
      "metadata": {
        "id": "kngHIkAKx96i"
      },
      "source": [
        "### **Split Data into Training & Testing sets**"
      ]
    },
    {
      "cell_type": "code",
      "execution_count": null,
      "metadata": {
        "id": "BZOBuscEx96i"
      },
      "outputs": [],
      "source": [
        "X = ufo_temp.drop(columns=['latitude', 'longitude'], axis=1)\n",
        "y_latitude = ufo_temp['latitude']\n",
        "y_longitude = ufo_temp['longitude']"
      ]
    },
    {
      "cell_type": "code",
      "execution_count": null,
      "metadata": {
        "id": "xqrYLvJfx96j"
      },
      "outputs": [],
      "source": [
        "# Split the dataset into training and testing sets\n",
        "X_train, X_test, y_train_latitude, y_test_latitude, y_train_longitude, y_test_longitude = train_test_split(X, y_latitude, y_longitude, test_size=0.2, random_state=42)\n",
        "mms = MinMaxScaler()\n",
        "X = mms.fit_transform(X)"
      ]
    },
    {
      "cell_type": "markdown",
      "metadata": {
        "id": "m91PPJ18x96j"
      },
      "source": [
        "### **Model 1: Gradient Boosting Regressor**"
      ]
    },
    {
      "cell_type": "code",
      "execution_count": null,
      "metadata": {
        "id": "W9psxMO1x96k"
      },
      "outputs": [],
      "source": [
        "# Train the models\n",
        "gb_latitude = GradientBoostingRegressor()\n",
        "gb_latitude.fit(X_train, y_train_latitude)\n",
        "\n",
        "gb_longitude = GradientBoostingRegressor()\n",
        "gb_longitude.fit(X_train, y_train_longitude)\n",
        "\n",
        "# Make predictions\n",
        "y_pred_latitude_hgb = gb_latitude.predict(X_test)\n",
        "y_pred_longitude_hgb = gb_longitude.predict(X_test)"
      ]
    },
    {
      "cell_type": "code",
      "execution_count": null,
      "metadata": {
        "id": "-35EPWsAx96k"
      },
      "outputs": [],
      "source": [
        "# Cross Validation\n",
        "cv_results = cross_val_score(gb_latitude, X_train, y_train_latitude, cv=5, scoring='r2')\n",
        "print(\"Latitude Cross Validation Scores: \", cv_results)\n",
        "print(\"Average CV Score: \", cv_results.mean())\n",
        "cv_results = cross_val_score(gb_longitude, X_train, y_train_longitude, cv=5, scoring='r2')\n",
        "print(\"Longitude Cross Validation Scores: \", cv_results)\n",
        "print(\"Average CV Score: \", cv_results.mean())"
      ]
    },
    {
      "cell_type": "markdown",
      "metadata": {
        "id": "GFU3A817x96k"
      },
      "source": [
        "### **Model 2: Histogram Gradient Boosting Regressor**"
      ]
    },
    {
      "cell_type": "code",
      "execution_count": null,
      "metadata": {
        "id": "pSQLmpk3x96l"
      },
      "outputs": [],
      "source": [
        "# Train the models\n",
        "hgb_latitude = HistGradientBoostingRegressor()\n",
        "hgb_latitude.fit(X_train, y_train_latitude)\n",
        "\n",
        "hgb_longitude = HistGradientBoostingRegressor()\n",
        "hgb_longitude.fit(X_train, y_train_longitude)\n",
        "\n",
        "# Make predictions\n",
        "y_pred_latitude_hgb = hgb_latitude.predict(X_test)\n",
        "y_pred_longitude_hgb = hgb_longitude.predict(X_test)"
      ]
    },
    {
      "cell_type": "code",
      "execution_count": null,
      "metadata": {
        "id": "ZEt_K5-Zx96l"
      },
      "outputs": [],
      "source": [
        "# Cross Validation\n",
        "cv_results = cross_val_score(hgb_latitude, X_train, y_train_latitude, cv=5, scoring='r2')\n",
        "print(\"Latitude Cross Validation Scores: \", cv_results)\n",
        "print(\"Average CV Score: \", cv_results.mean())\n",
        "cv_results = cross_val_score(hgb_longitude, X_train, y_train_longitude, cv=5, scoring='r2')\n",
        "print(\"Longitude Cross Validation Scores: \", cv_results)\n",
        "print(\"Average CV Score: \", cv_results.mean())"
      ]
    },
    {
      "cell_type": "markdown",
      "metadata": {
        "id": "mS4VWIdbx96l"
      },
      "source": [
        "### **Model 3: Random Forest Regressor**"
      ]
    },
    {
      "cell_type": "code",
      "execution_count": null,
      "metadata": {
        "id": "2rU7TWjGx96l"
      },
      "outputs": [],
      "source": [
        "rf_latitude = RandomForestRegressor()\n",
        "rf_latitude.fit(X_train, y_train_latitude)\n",
        "\n",
        "rf_longitude = RandomForestRegressor()\n",
        "rf_longitude.fit(X_train, y_train_longitude)\n",
        "\n",
        "# Make predictions\n",
        "y_pred_latitude_rf = rf_latitude.predict(X_test)\n",
        "y_pred_longitude_rf = rf_longitude.predict(X_test)"
      ]
    },
    {
      "cell_type": "code",
      "execution_count": null,
      "metadata": {
        "id": "BYGsYCn-x96l"
      },
      "outputs": [],
      "source": [
        "# Cross Validation\n",
        "cv_results = cross_val_score(rf_latitude, X_train, y_train_latitude, cv=5, scoring='r2')\n",
        "print(\"Latitude Cross Validation Scores: \", cv_results)\n",
        "print(\"Average CV Score: \", cv_results.mean())\n",
        "cv_results = cross_val_score(rf_longitude, X_train, y_train_longitude, cv=5, scoring='r2')\n",
        "print(\"Longitude Cross Validation Scores: \", cv_results)\n",
        "print(\"Average CV Score: \", cv_results.mean())"
      ]
    },
    {
      "cell_type": "markdown",
      "metadata": {
        "id": "jWywpFwAx96m"
      },
      "source": [
        "After reviewing the cross validation scores from each model, we chose model 3, the random forest regressor, as our final model for question 2."
      ]
    },
    {
      "cell_type": "code",
      "execution_count": null,
      "metadata": {
        "id": "Ic3NO3S9x96m"
      },
      "outputs": [],
      "source": [
        "# Evaluate the performance\n",
        "mae_latitude_rf = mean_absolute_error(y_test_latitude, y_pred_latitude_rf)\n",
        "mse_latitude_rf = mean_squared_error(y_test_latitude, y_pred_latitude_rf)\n",
        "r2_latitude_rf = r2_score(y_test_latitude, y_pred_latitude_rf)\n",
        "\n",
        "mae_longitude_rf = mean_absolute_error(y_test_longitude, y_pred_longitude_rf)\n",
        "mse_longitude_rf = mean_squared_error(y_test_longitude, y_pred_longitude_rf)\n",
        "r2_longitude_rf = r2_score(y_test_longitude, y_pred_longitude_rf)\n",
        "\n",
        "print(f\"mean_absolute_error latitude: {mae_latitude_rf}\")\n",
        "print(f\"mean_squared_error latitude: {mse_latitude_rf}\")\n",
        "print(f\"r2_score latitude: {r2_latitude_rf}\\n\")\n",
        "print(f\"mean_absolute_error longitude: {mae_longitude_rf}\")\n",
        "print(f\"mean_squared_error longitude: {mse_longitude_rf}\")\n",
        "print(f\"r2_score longitude: {r2_longitude_rf}\")"
      ]
    },
    {
      "cell_type": "markdown",
      "metadata": {
        "id": "I93DFspCx96m"
      },
      "source": [
        "### **Optimizing Parameters**"
      ]
    },
    {
      "cell_type": "code",
      "execution_count": null,
      "metadata": {
        "id": "NAtnbzPex96m"
      },
      "outputs": [],
      "source": [
        "param_grid = {\n",
        "    'n_estimators': [100, 225, 350],\n",
        "    'max_features': ['sqrt', 'log2', None],\n",
        "}\n",
        "\n",
        "# Create a random forest classifier\n",
        "rf = RandomForestRegressor()\n",
        "\n",
        "# Use random search to find the best hyperparameters\n",
        "rand_search = RandomizedSearchCV(rf, param_distributions=param_grid)\n",
        "\n",
        "# Fit the random search object to the data\n",
        "rand_search.fit(X_train, y_train_latitude)\n",
        "\n",
        "# Create a variable for the best model\n",
        "best_rf1 = rand_search.best_estimator_\n",
        "\n",
        "# Print the best hyperparameters\n",
        "print('Best hyperparameters:',  rand_search.best_params_)\n",
        "\n",
        "y_pred = best_rf1.predict(X_test)\n",
        "r2 = r2_score(y_test_latitude, y_pred)\n",
        "print(\"r2 latitude:\", r2)\n",
        "\n",
        "# Fit the random search object to the data\n",
        "rand_search.fit(X_train, y_train_longitude)\n",
        "\n",
        "# Create a variable for the best model\n",
        "best_rf2 = rand_search.best_estimator_\n",
        "\n",
        "# Print the best hyperparameters\n",
        "print('Best hyperparameters:',  rand_search.best_params_)\n",
        "\n",
        "y_pred = best_rf2.predict(X_test)\n",
        "r2 = r2_score(y_test_longitude, y_pred)\n",
        "print(\"r2 longitude:\", r2)"
      ]
    },
    {
      "cell_type": "code",
      "execution_count": null,
      "metadata": {
        "id": "Fmp-zBwdx96m"
      },
      "outputs": [],
      "source": [
        "# Cross Validation\n",
        "cv_resultsLat = cross_val_score(best_rf1, X_train, y_train_latitude, cv=5, scoring='r2')\n",
        "print(\"Latitude Cross Validation Scores: \", cv_resultsLat)\n",
        "print(\"Average CV Score: \", cv_resultsLat.mean())\n",
        "cv_resultsLong = cross_val_score(best_rf2, X_train, y_train_longitude, cv=5, scoring='r2')\n",
        "print(\"Longitude Cross Validation Scores: \", cv_resultsLong)\n",
        "print(\"Average CV Score: \", cv_resultsLong.mean())"
      ]
    },
    {
      "cell_type": "markdown",
      "metadata": {
        "id": "eiK08xkZx96n"
      },
      "source": [
        "### **Prediction Results**"
      ]
    },
    {
      "cell_type": "code",
      "execution_count": null,
      "metadata": {
        "id": "JRsPsA9rx96n"
      },
      "outputs": [],
      "source": [
        "df_pred_lat = pd.DataFrame({'predict_latitude_reg': y_pred_latitude_rf})\n",
        "df_pred_lon = pd.DataFrame({'predict_longitude_reg': y_pred_longitude_rf})\n",
        "\n",
        "ufo_temp['predict_latitude_ufo'] = df_pred_lat['predict_latitude_reg']\n",
        "ufo_temp['predict_longitude_ufo'] = df_pred_lon['predict_longitude_reg']"
      ]
    },
    {
      "cell_type": "code",
      "execution_count": null,
      "metadata": {
        "id": "mhdyZspFx96n"
      },
      "outputs": [],
      "source": [
        "plt.style.use('dark_background')\n",
        "states = gdp.read_file(map_ca)\n",
        "states[states['NAME'] == 'California'].plot(figsize=(12, 12),color='#DFEEDA')\n",
        "#plt.figure(figsize=(14, 8))\n",
        "plt.scatter(ufo_temp['longitude'], ufo_temp['latitude'], color='pink', label='Real Data', s=3)\n",
        "mask = ~ufo_temp['predict_latitude_ufo'].isnull() & ~ufo_temp['predict_longitude_ufo'].isnull()\n",
        "plt.scatter(ufo_temp.loc[mask, 'predict_longitude_ufo'], ufo_temp.loc[mask, 'predict_latitude_ufo'], color='blue', label='Predictions', s=3)\n",
        "plt.title('Real UFO Data vs Predictions', fontsize='18')\n",
        "plt.xlabel('Longitude', fontsize='15')\n",
        "plt.ylabel('Latitude', fontsize='15')\n",
        "plt.xlim(-125, -113)\n",
        "plt.ylim(32, 43)\n",
        "plt.legend(fontsize=\"15\",markerscale=3)\n",
        "plt.show()"
      ]
    }
  ],
  "metadata": {
    "colab": {
      "provenance": []
    },
    "kernelspec": {
      "display_name": "Python 3",
      "language": "python",
      "name": "python3"
    },
    "language_info": {
      "codemirror_mode": {
        "name": "ipython",
        "version": 3
      },
      "file_extension": ".py",
      "mimetype": "text/x-python",
      "name": "python",
      "nbconvert_exporter": "python",
      "pygments_lexer": "ipython3",
      "version": "3.8.8"
    }
  },
  "nbformat": 4,
  "nbformat_minor": 0
}
